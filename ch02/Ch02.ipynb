{
 "cells": [
  {
   "cell_type": "markdown",
   "id": "0",
   "metadata": {},
   "source": [
    "# Chapter 2: Working with text data"
   ]
  },
  {
   "cell_type": "markdown",
   "id": "1",
   "metadata": {},
   "source": [
    "## 2.2: Tokenizing Text"
   ]
  },
  {
   "cell_type": "code",
   "execution_count": null,
   "id": "2",
   "metadata": {},
   "outputs": [],
   "source": [
    "with open(\"the-verdict.txt\", \"r\", encoding=\"utf-8\") as f:\n",
    "    raw_text = f.read()\n",
    "print(\"Total number of characters: \", len(raw_text))\n",
    "\n",
    "print(raw_text[:99])"
   ]
  },
  {
   "cell_type": "code",
   "execution_count": null,
   "id": "3",
   "metadata": {},
   "outputs": [],
   "source": [
    "import re\n",
    "text = \"Hello, world. This, is a test.\"\n",
    "\n",
    "# split on whitespace\n",
    "result = re.split(r'(\\s)',text)\n",
    "print(result)\n",
    "\n",
    "#split on whitespace, commas, and periods\n",
    "result = re.split(r'([,.]|\\s)', text)\n",
    "print(result)\n",
    "\n",
    "#remove whitespace characters\n",
    "result = [item for item in result if item.strip()]\n",
    "print(result)"
   ]
  },
  {
   "cell_type": "code",
   "execution_count": null,
   "id": "4",
   "metadata": {},
   "outputs": [],
   "source": [
    "# build a more advanced tokenizer\n",
    "text = \"Hello, world. Is this-- a test?\"\n",
    "result = re.split(r'([,.:;?_!\"()\\']|--|\\s)', text)\n",
    "result = [item.strip() for item in result if item.strip()]\n",
    "print(result)"
   ]
  },
  {
   "cell_type": "code",
   "execution_count": null,
   "id": "5",
   "metadata": {},
   "outputs": [],
   "source": [
    "# apply our more advanced (but still very basic!) tokenizer to Edith Wharton's entire short story\n",
    "preprocessed = re.split(r'([,.:;?_!\"()\\']|--|\\s)', raw_text)\n",
    "preprocessed = [item.strip() for item in preprocessed if item.strip()]"
   ]
  },
  {
   "cell_type": "markdown",
   "id": "6",
   "metadata": {},
   "source": [
    "## 2.3 Converting tokens into token IDs"
   ]
  },
  {
   "cell_type": "code",
   "execution_count": null,
   "id": "7",
   "metadata": {},
   "outputs": [],
   "source": [
    "# create a list of all unqiue tokens (words) and sort alphabetically. This is our vocabulary.\n",
    "all_words = sorted(set(preprocessed))\n",
    "vocab_size = len(all_words)\n",
    "print(vocab_size)"
   ]
  },
  {
   "cell_type": "code",
   "execution_count": null,
   "id": "8",
   "metadata": {},
   "outputs": [],
   "source": [
    "# Display the first 51 tokens in our vocabulary.\n",
    "vocab = {token:integer for integer,token in enumerate(all_words)}\n",
    "for i, item in enumerate(vocab.items()):\n",
    "    print(item)\n",
    "    if i >= 50:\n",
    "        break"
   ]
  },
  {
   "cell_type": "code",
   "execution_count": null,
   "id": "9",
   "metadata": {},
   "outputs": [],
   "source": [
    "# A class that handles this tokenization, creation of the vocabulary, and an integer-to-string lookup on our vocabulary.\n",
    "class SimpleTokenizerV1:\n",
    "    def __init__(self,vocab):\n",
    "        # store the vocabulary as a class attribute for access in encode/decode methods\n",
    "        self.str_to_int = vocab\n",
    "        # create an inverse vocabulary that maps token IDs back to the original text tokens\n",
    "        self.int_to_str = {i:s for s,i in vocab.items()}\n",
    "\n",
    "    def encode(self, text):\n",
    "        # process input text into token IDs\n",
    "        preprocessed = re.split(r'([,.:;?_!\"()\\']|--|\\s)', text)\n",
    "        preprocessed = [\n",
    "            item.strip() for item in preprocessed if item.strip()\n",
    "        ]\n",
    "        ids = [self.str_to_int[s] for s in preprocessed]\n",
    "        return ids\n",
    "\n",
    "    def decode(self, ids):\n",
    "        # convert ids back into tokens\n",
    "        text = \" \".join([self.int_to_str[i] for i in ids])\n",
    "\n",
    "        # removes spaces before specified punctuation\n",
    "        text = re.sub(r'\\s+([,.?!\"()\\'])', r'\\1',text)\n",
    "        return text"
   ]
  },
  {
   "cell_type": "code",
   "execution_count": null,
   "id": "10",
   "metadata": {},
   "outputs": [],
   "source": [
    "# Initialize our tokenizer with the full vocab of the entire story.\n",
    "tokenizer = SimpleTokenizerV1(vocab)\n",
    "\n",
    "# tokenize a passage from Edith Wharton's short story\n",
    "text = \"\"\"\"It's the last he painted, you know,\"\n",
    "        Mrs. Gisburn said with pardonable pride.\"\"\"\n",
    "ids = tokenizer.encode(text)\n",
    "print(ids)"
   ]
  },
  {
   "cell_type": "code",
   "execution_count": null,
   "id": "11",
   "metadata": {},
   "outputs": [],
   "source": [
    "# Can we turn these IDs back into text?\n",
    "print(tokenizer.decode(ids))"
   ]
  },
  {
   "cell_type": "code",
   "execution_count": null,
   "id": "12",
   "metadata": {},
   "outputs": [],
   "source": [
    "# Try to tokenize text not in the training set used to generate our vocabulary\n",
    "text = \"Hello, do you like tea?\"\n",
    "print(tokenizer.encode(text))\n",
    "\n",
    "# Results in KeyError"
   ]
  },
  {
   "cell_type": "markdown",
   "id": "c5236a5c-cf8e-40b5-ba27-b308ddc44413",
   "metadata": {},
   "source": [
    "## 2.4 Adding special context tokens"
   ]
  },
  {
   "cell_type": "code",
   "execution_count": null,
   "id": "1a0e0caf-97b6-4ee4-986a-7f06a62ac95e",
   "metadata": {},
   "outputs": [],
   "source": [
    "# Add a token to represent the end of a text and one that represents an unknown token\n",
    "all_tokens = sorted(list(set(preprocessed)))\n",
    "all_tokens.extend([\"<|endoftext|>\", \"<|unk|>\"])\n",
    "vocab = {token:integer for integer,token in enumerate(all_tokens)}\n",
    "\n",
    "print(len(vocab.items()))\n",
    "\n",
    "# print the last 5 items in our vocabulary, which should include our new special tokens\n",
    "for i, item in enumerate(list(vocab.items())[-5:]):\n",
    "    print(item)"
   ]
  },
  {
   "cell_type": "code",
   "execution_count": null,
   "id": "17ab4464-ad7a-4a60-94dc-e9a9f639d75d",
   "metadata": {},
   "outputs": [],
   "source": [
    "# Update our tokenizer to handle our new special tokens\n",
    "class SimpleTokenizerV2:\n",
    "    def __init__(self, vocab):\n",
    "        self.str_to_int = vocab\n",
    "        self.int_to_str = {i:s for s,i in vocab.items()}\n",
    "\n",
    "    def encode(self, text):\n",
    "        preprocessed = re.split(r'([,.:;?_!\"()\\']|--|\\s)', text)\n",
    "        preprocessed = [\n",
    "            item.strip() for item in preprocessed if item.strip()\n",
    "        ]\n",
    "\n",
    "        # Replaces unknown words with the <|unk|> token\n",
    "        preprocessed = [item if item in self.str_to_int\n",
    "                       else \"<|unk|>\" for item in preprocessed]\n",
    "\n",
    "        ids = [self.str_to_int[s] for s in preprocessed]\n",
    "        return ids\n",
    "\n",
    "    def decode(self, ids):\n",
    "        text = \" \".join([self.int_to_str[i] for i in ids])\n",
    "\n",
    "        # removes spaces before specified punctuation\n",
    "        text = re.sub(r'\\s+([,.?!\"()\\'])', r'\\1',text)\n",
    "        return text"
   ]
  },
  {
   "cell_type": "code",
   "execution_count": null,
   "id": "0545c6d6-eed4-4af3-b785-ca58ca3e8206",
   "metadata": {},
   "outputs": [],
   "source": [
    "# Generate two unrelated texts and concatenate them with our special end of text token\n",
    "text1 = \"Hello, do you like tea?\"\n",
    "text2 = \"In the sunlit terraces of the palace.\"\n",
    "text = \" <|endoftext|> \".join((text1,text2))\n",
    "print(text)"
   ]
  },
  {
   "cell_type": "code",
   "execution_count": null,
   "id": "c73b2428-fab9-44c5-9913-569448a6712f",
   "metadata": {},
   "outputs": [],
   "source": [
    "# Tokenize our conatenated texts\n",
    "tokenizer = SimpleTokenizerV2(vocab)\n",
    "print(tokenizer.encode(text))\n",
    "print(tokenizer.decode(tokenizer.encode(text)))"
   ]
  },
  {
   "cell_type": "markdown",
   "id": "5a8d979b-285c-4491-a478-b07b0eb5c77d",
   "metadata": {},
   "source": [
    "## 2.5 Byte pair encoding"
   ]
  },
  {
   "cell_type": "code",
   "execution_count": null,
   "id": "f55dd6dd-c6ca-4966-bb2b-ade1b9d53d4b",
   "metadata": {},
   "outputs": [],
   "source": [
    "from importlib.metadata import version\n",
    "import tiktoken\n",
    "print(\"tiktoken version: \", version(\"tiktoken\"))"
   ]
  },
  {
   "cell_type": "code",
   "execution_count": null,
   "id": "438ad937-1f77-4c5e-a601-fc9dd2878411",
   "metadata": {},
   "outputs": [],
   "source": [
    "# Instantiate the bye pair encoding (BPE) tokenizer\n",
    "tokenizer = tiktoken.get_encoding(\"gpt2\")"
   ]
  },
  {
   "cell_type": "code",
   "execution_count": null,
   "id": "d7343724-b4c2-403d-8d25-d493d02ad7e6",
   "metadata": {},
   "outputs": [],
   "source": [
    "# Encode our text using tiktoken\n",
    "text = (\n",
    "    \"Hello, do you like tea? <|endoftext|> In the sunlit terraces\"\n",
    "    \"of someunknownPlace.\"\n",
    ")\n",
    "integers = tokenizer.encode(text, allowed_special={\"<|endoftext|>\"})\n",
    "print(integers)\n",
    "\n",
    "# Decode our tokenized string using tiktoken\n",
    "strings = tokenizer.decode(integers)\n",
    "print(strings)"
   ]
  },
  {
   "cell_type": "markdown",
   "id": "8ebb1daa-a25f-492c-ad96-086445cdc76d",
   "metadata": {},
   "source": [
    "### Exercise 2.1 Byte pair encoding of unknown words"
   ]
  },
  {
   "cell_type": "code",
   "execution_count": null,
   "id": "d7b323b2-5965-4fa3-89fe-e101d17a7084",
   "metadata": {},
   "outputs": [],
   "source": [
    "unknown_words_text = \"Akwirw ier\"\n",
    "encoded_unknowns = tokenizer.encode(unknown_words_text)\n",
    "print(encoded_unknowns)\n",
    "\n",
    "for encoded_int in encoded_unknowns:\n",
    "    print(tokenizer.decode([encoded_int]))\n",
    "\n",
    "print(tokenizer.decode(encoded_unknowns))"
   ]
  }
 ],
 "metadata": {
  "kernelspec": {
   "display_name": "Python 3 (ipykernel)",
   "language": "python",
   "name": "python3"
  },
  "language_info": {
   "codemirror_mode": {
    "name": "ipython",
    "version": 3
   },
   "file_extension": ".py",
   "mimetype": "text/x-python",
   "name": "python",
   "nbconvert_exporter": "python",
   "pygments_lexer": "ipython3"
  }
 },
 "nbformat": 4,
 "nbformat_minor": 5
}
