{
 "cells": [
  {
   "cell_type": "markdown",
   "id": "0",
   "metadata": {},
   "source": [
    "# Chapter 2: Working with text data"
   ]
  },
  {
   "cell_type": "markdown",
   "id": "1",
   "metadata": {},
   "source": [
    "## 2.2: Tokenizing Text"
   ]
  },
  {
   "cell_type": "code",
   "execution_count": null,
   "id": "2",
   "metadata": {},
   "outputs": [],
   "source": [
    "with open(\"the-verdict.txt\", \"r\", encoding=\"utf-8\") as f:\n",
    "    raw_text = f.read()\n",
    "print(\"Total number of characters: \", len(raw_text))\n",
    "\n",
    "print(raw_text[:99])"
   ]
  },
  {
   "cell_type": "code",
   "execution_count": null,
   "id": "3",
   "metadata": {},
   "outputs": [],
   "source": [
    "import re\n",
    "text = \"Hello, world. This, is a test.\"\n",
    "\n",
    "# split on whitespace\n",
    "result = re.split(r'(\\s)',text)\n",
    "print(result)\n",
    "\n",
    "#split on whitespace, commas, and periods\n",
    "result = re.split(r'([,.]|\\s)', text)\n",
    "print(result)\n",
    "\n",
    "#remove whitespace characters\n",
    "result = [item for item in result if item.strip()]\n",
    "print(result)"
   ]
  },
  {
   "cell_type": "code",
   "execution_count": null,
   "id": "4",
   "metadata": {},
   "outputs": [],
   "source": [
    "# build a more advanced tokenizer\n",
    "text = \"Hello, world. Is this-- a test?\"\n",
    "result = re.split(r'([,.:;?_!\"()\\']|--|\\s)', text)\n",
    "result = [item.strip() for item in result if item.strip()]\n",
    "print(result)"
   ]
  },
  {
   "cell_type": "code",
   "execution_count": null,
   "id": "5",
   "metadata": {},
   "outputs": [],
   "source": [
    "# apply our more advanced (but still very basic!) tokenizer to Edith Wharton's entire short story\n",
    "preprocessed = re.split(r'([,.:;?_!\"()\\']|--|\\s)', raw_text)\n",
    "preprocessed = [item.strip() for item in preprocessed if item.strip()]"
   ]
  },
  {
   "cell_type": "markdown",
   "id": "6",
   "metadata": {},
   "source": [
    "## 2.3 Converting tokens into token IDs"
   ]
  },
  {
   "cell_type": "code",
   "execution_count": null,
   "id": "7",
   "metadata": {},
   "outputs": [],
   "source": [
    "# create a list of all unqiue tokens (words) and sort alphabetically. This is our vocabulary.\n",
    "all_words = sorted(set(preprocessed))\n",
    "vocab_size = len(all_words)\n",
    "print(vocab_size)"
   ]
  },
  {
   "cell_type": "code",
   "execution_count": null,
   "id": "8",
   "metadata": {},
   "outputs": [],
   "source": [
    "# Display the first 51 tokens in our vocabulary.\n",
    "vocab = {token:integer for integer,token in enumerate(all_words)}\n",
    "for i, item in enumerate(vocab.items()):\n",
    "    print(item)\n",
    "    if i >= 50:\n",
    "        break"
   ]
  },
  {
   "cell_type": "code",
   "execution_count": null,
   "id": "9",
   "metadata": {},
   "outputs": [],
   "source": [
    "# A class that handles this tokenization, creation of the vocabulary, and an integer-to-string lookup on our vocabulary.\n",
    "class SimpleTokenizerV1:\n",
    "    def __init__(self,vocab):\n",
    "        # store the vocabulary as a class attribute for access in encode/decode methods\n",
    "        self.str_to_int = vocab\n",
    "        # create an inverse vocabulary that maps token IDs back to the original text tokens\n",
    "        self.int_to_str = {i:s for s,i in vocab.items()}\n",
    "\n",
    "    def encode(self, text):\n",
    "        # process input text into token IDs\n",
    "        preprocessed = re.split(r'([,.:;?_!\"()\\']|--|\\s)', text)\n",
    "        preprocessed = [\n",
    "            item.strip() for item in preprocessed if item.strip()\n",
    "        ]\n",
    "        ids = [self.str_to_int[s] for s in preprocessed]\n",
    "        return ids\n",
    "\n",
    "    def decode(self, ids):\n",
    "        # convert ids back into tokens\n",
    "        text = \" \".join([self.int_to_str[i] for i in ids])\n",
    "\n",
    "        # removes spaces before specified punctuation\n",
    "        text = re.sub(r'\\s+([,.?!\"()\\'])', r'\\1',text)\n",
    "        return text"
   ]
  },
  {
   "cell_type": "code",
   "execution_count": null,
   "id": "10",
   "metadata": {},
   "outputs": [],
   "source": [
    "# Initialize our tokenizer with the full vocab of the entire story.\n",
    "tokenizer = SimpleTokenizerV1(vocab)\n",
    "\n",
    "# tokenize a passage from Edith Wharton's short story\n",
    "text = \"\"\"\"It's the last he painted, you know,\"\n",
    "        Mrs. Gisburn said with pardonable pride.\"\"\"\n",
    "ids = tokenizer.encode(text)\n",
    "print(ids)"
   ]
  },
  {
   "cell_type": "code",
   "execution_count": null,
   "id": "11",
   "metadata": {},
   "outputs": [],
   "source": [
    "# Can we turn these IDs back into text?\n",
    "print(tokenizer.decode(ids))"
   ]
  },
  {
   "cell_type": "code",
   "execution_count": null,
   "id": "12",
   "metadata": {},
   "outputs": [],
   "source": [
    "# Try to tokenize text not in the training set used to generate our vocabulary\n",
    "text = \"Hello, do you like tea?\"\n",
    "print(tokenizer.encode(text))\n",
    "\n",
    "# Results in KeyError"
   ]
  },
  {
   "cell_type": "markdown",
   "id": "c5236a5c-cf8e-40b5-ba27-b308ddc44413",
   "metadata": {},
   "source": [
    "## 2.4 Adding special context tokens"
   ]
  },
  {
   "cell_type": "code",
   "execution_count": null,
   "id": "1a0e0caf-97b6-4ee4-986a-7f06a62ac95e",
   "metadata": {},
   "outputs": [],
   "source": [
    "# Add a token to represent the end of a text and one that represents an unknown token\n",
    "all_tokens = sorted(list(set(preprocessed)))\n",
    "all_tokens.extend([\"<|endoftext|>\", \"<|unk|>\"])\n",
    "vocab = {token:integer for integer,token in enumerate(all_tokens)}\n",
    "\n",
    "print(len(vocab.items()))\n",
    "\n",
    "# print the last 5 items in our vocabulary, which should include our new special tokens\n",
    "for i, item in enumerate(list(vocab.items())[-5:]):\n",
    "    print(item)"
   ]
  },
  {
   "cell_type": "code",
   "execution_count": null,
   "id": "17ab4464-ad7a-4a60-94dc-e9a9f639d75d",
   "metadata": {},
   "outputs": [],
   "source": [
    "# Update our tokenizer to handle our new special tokens\n",
    "class SimpleTokenizerV2:\n",
    "    def __init__(self, vocab):\n",
    "        self.str_to_int = vocab\n",
    "        self.int_to_str = {i:s for s,i in vocab.items()}\n",
    "\n",
    "    def encode(self, text):\n",
    "        preprocessed = re.split(r'([,.:;?_!\"()\\']|--|\\s)', text)\n",
    "        preprocessed = [\n",
    "            item.strip() for item in preprocessed if item.strip()\n",
    "        ]\n",
    "\n",
    "        # Replaces unknown words with the <|unk|> token\n",
    "        preprocessed = [item if item in self.str_to_int\n",
    "                       else \"<|unk|>\" for item in preprocessed]\n",
    "\n",
    "        ids = [self.str_to_int[s] for s in preprocessed]\n",
    "        return ids\n",
    "\n",
    "    def decode(self, ids):\n",
    "        text = \" \".join([self.int_to_str[i] for i in ids])\n",
    "\n",
    "        # removes spaces before specified punctuation\n",
    "        text = re.sub(r'\\s+([,.?!\"()\\'])', r'\\1',text)\n",
    "        return text"
   ]
  },
  {
   "cell_type": "code",
   "execution_count": null,
   "id": "0545c6d6-eed4-4af3-b785-ca58ca3e8206",
   "metadata": {},
   "outputs": [],
   "source": [
    "# Generate two unrelated texts and concatenate them with our special end of text token\n",
    "text1 = \"Hello, do you like tea?\"\n",
    "text2 = \"In the sunlit terraces of the palace.\"\n",
    "text = \" <|endoftext|> \".join((text1,text2))\n",
    "print(text)"
   ]
  },
  {
   "cell_type": "code",
   "execution_count": null,
   "id": "c73b2428-fab9-44c5-9913-569448a6712f",
   "metadata": {},
   "outputs": [],
   "source": [
    "# Tokenize our conatenated texts\n",
    "tokenizer = SimpleTokenizerV2(vocab)\n",
    "print(tokenizer.encode(text))\n",
    "print(tokenizer.decode(tokenizer.encode(text)))"
   ]
  },
  {
   "cell_type": "markdown",
   "id": "5a8d979b-285c-4491-a478-b07b0eb5c77d",
   "metadata": {},
   "source": [
    "## 2.5 Byte pair encoding"
   ]
  },
  {
   "cell_type": "code",
   "execution_count": null,
   "id": "f55dd6dd-c6ca-4966-bb2b-ade1b9d53d4b",
   "metadata": {},
   "outputs": [],
   "source": [
    "from importlib.metadata import version\n",
    "import tiktoken\n",
    "print(\"tiktoken version: \", version(\"tiktoken\"))"
   ]
  },
  {
   "cell_type": "code",
   "execution_count": null,
   "id": "438ad937-1f77-4c5e-a601-fc9dd2878411",
   "metadata": {},
   "outputs": [],
   "source": [
    "# Instantiate the bye pair encoding (BPE) tokenizer\n",
    "tokenizer = tiktoken.get_encoding(\"gpt2\")"
   ]
  },
  {
   "cell_type": "code",
   "execution_count": null,
   "id": "d7343724-b4c2-403d-8d25-d493d02ad7e6",
   "metadata": {},
   "outputs": [],
   "source": [
    "# Encode our text using tiktoken\n",
    "text = (\n",
    "    \"Hello, do you like tea? <|endoftext|> In the sunlit terraces\"\n",
    "    \"of someunknownPlace.\"\n",
    ")\n",
    "integers = tokenizer.encode(text, allowed_special={\"<|endoftext|>\"})\n",
    "print(integers)\n",
    "\n",
    "# Decode our tokenized string using tiktoken\n",
    "strings = tokenizer.decode(integers)\n",
    "print(strings)"
   ]
  },
  {
   "cell_type": "markdown",
   "id": "8ebb1daa-a25f-492c-ad96-086445cdc76d",
   "metadata": {},
   "source": [
    "### Exercise 2.1 Byte pair encoding of unknown words"
   ]
  },
  {
   "cell_type": "code",
   "execution_count": null,
   "id": "d7b323b2-5965-4fa3-89fe-e101d17a7084",
   "metadata": {},
   "outputs": [],
   "source": [
    "unknown_words_text = \"Akwirw ier\"\n",
    "encoded_unknowns = tokenizer.encode(unknown_words_text)\n",
    "print(encoded_unknowns)\n",
    "\n",
    "for encoded_int in encoded_unknowns:\n",
    "    print(tokenizer.decode([encoded_int]))\n",
    "\n",
    "print(tokenizer.decode(encoded_unknowns))"
   ]
  },
  {
   "cell_type": "markdown",
   "id": "befd4410-6819-408d-98c0-025c9b62b11d",
   "metadata": {},
   "source": [
    "## 2.6 Data sampling with a sliding window"
   ]
  },
  {
   "cell_type": "code",
   "execution_count": null,
   "id": "82dc3159-7439-4621-a2ac-27530cf6ecc1",
   "metadata": {},
   "outputs": [],
   "source": [
    "# Load and encode the entire text of \"The Verdict\" short story\n",
    "with open(\"the-verdict.txt\", \"r\", encoding=\"utf-8\") as f:\n",
    "    raw_text = f.read()\n",
    "\n",
    "enc_text = tokenizer.encode(raw_text)\n",
    "print(len(enc_text))"
   ]
  },
  {
   "cell_type": "code",
   "execution_count": null,
   "id": "e4960471-61c5-4e1b-8e51-5d45e25b51c6",
   "metadata": {},
   "outputs": [],
   "source": [
    "# Remove the first 50 tokens from the dataset for demonstration purposes\n",
    "enc_sample = enc_text[50:]"
   ]
  },
  {
   "cell_type": "code",
   "execution_count": null,
   "id": "0fd2219c-cdba-4305-98d4-4330bd85f48c",
   "metadata": {},
   "outputs": [],
   "source": [
    "context_size = 4 #how many tokens are included in the input\n",
    "x = enc_sample[:context_size] # Inputs\n",
    "y = enc_sample[1:context_size+1] # Targets\n",
    "\n",
    "# The targets are the inputs, shifted by 1 position\n",
    "print(f\"x: {x}\")\n",
    "print(f\"y:      {y}\")"
   ]
  },
  {
   "cell_type": "code",
   "execution_count": null,
   "id": "e1cad1b4-6508-4529-8659-a0a8b8c2d9dd",
   "metadata": {},
   "outputs": [],
   "source": [
    "# Create a next-word predicition task\n",
    "\n",
    "for i in range(1, context_size + 1):\n",
    "    context = enc_sample[:i]\n",
    "    desired = enc_sample[i]\n",
    "    print(context, \"---->\", desired)"
   ]
  },
  {
   "cell_type": "code",
   "execution_count": null,
   "id": "e384df5f-7d29-494e-a0f2-3a3edff00d10",
   "metadata": {},
   "outputs": [],
   "source": [
    "# Do the same thing, but decode the tokens\n",
    "for i in range(1, context_size + 1):\n",
    "    context = enc_sample[:i]\n",
    "    desired = enc_sample[i]\n",
    "    print(tokenizer.decode(context), \"---->\", tokenizer.decode([desired]))"
   ]
  },
  {
   "cell_type": "markdown",
   "id": "480a5b6e-03d3-45b6-9014-082c5fc90453",
   "metadata": {},
   "source": [
    "Note to self: Is this interesting? It seems like I'm just encoding a source text, and then regurgitating the same text through tokens. Am I missing something?"
   ]
  },
  {
   "cell_type": "code",
   "execution_count": null,
   "id": "9fa5701b-ff46-4699-a32a-245c359a4a6d",
   "metadata": {},
   "outputs": [],
   "source": [
    "import torch\n",
    "from torch.utils.data import Dataset, DataLoader\n",
    "\n",
    "class GPTDatasetV1(Dataset):\n",
    "    def __init__(self, txt, tokenizer, max_length, stride):\n",
    "        self.input_ids = []\n",
    "        self.target_ids = []\n",
    "\n",
    "        token_ids = tokenizer.encode(txt) # Tokenizes the entire text\n",
    "\n",
    "        # uses a sliding window to chunk the book into overlapping sequences of max_length\n",
    "        for i in range(0, len(token_ids) - max_length, stride):\n",
    "            input_chunk = token_ids[i:i + max_length]\n",
    "            target_chunk = token_ids[i + 1: i + max_length + 1]\n",
    "            self.input_ids.append(torch.tensor(input_chunk))\n",
    "            self.target_ids.append(torch.tensor(target_chunk))\n",
    "\n",
    "    def __len__(self): # Returns the total number of rows in the dataset\n",
    "        return len(self.input_ids)\n",
    "\n",
    "    def __getitem__(self, idx): # Returns a single row from the dataset.\n",
    "        return self.input_ids[idx], self.target_ids[idx]"
   ]
  },
  {
   "cell_type": "code",
   "execution_count": null,
   "id": "1c8920ff-fbfb-4823-9b90-e64d17314581",
   "metadata": {},
   "outputs": [],
   "source": [
    "def create_dataloader_v1(txt, batch_size=4, max_length=246,\n",
    "                         stride=128, shuffle=True, drop_last=True,\n",
    "                         num_workers=0):\n",
    "    tokenizer = tiktoken.get_encoding(\"gpt2\")\n",
    "    dataset = GPTDatasetV1(txt, tokenizer, max_length, stride)\n",
    "    dataloader = DataLoader(\n",
    "        dataset,\n",
    "        batch_size=batch_size,\n",
    "        shuffle=shuffle,\n",
    "        drop_last=drop_last, # True drops the last batch if it is shorter than batch_size to prevent loss_spikes during training\n",
    "        num_workers=num_workers # number of CPU processes to use for preprocessing\n",
    "    )\n",
    "\n",
    "    return dataloader"
   ]
  },
  {
   "cell_type": "code",
   "execution_count": null,
   "id": "b5cca230-cd84-42bc-86bf-10b45162853b",
   "metadata": {},
   "outputs": [],
   "source": [
    "with open(\"the-verdict.txt\", \"r\", encoding=\"utf-8\") as f:\n",
    "    raw_text = f.read()\n",
    "\n",
    "dataloader = create_dataloader_v1(\n",
    "    raw_text, batch_size=1, max_length=4, stride=1, shuffle=False)\n",
    "data_iter = iter(dataloader) # Converts the dataloader into a Python iterator to fetch the next entry via Python's built in next() function\n",
    "first_batch = next(data_iter)\n",
    "print(first_batch)"
   ]
  },
  {
   "cell_type": "code",
   "execution_count": null,
   "id": "63c6f437-5ac0-412c-81b6-26679bf10634",
   "metadata": {},
   "outputs": [],
   "source": [
    "second_batch = next(data_iter)\n",
    "print(second_batch)"
   ]
  },
  {
   "cell_type": "markdown",
   "id": "f0b225ef-9679-48fa-ba5f-601a573c5b08",
   "metadata": {},
   "source": [
    "## Exercise 2.2 Data Loaders with different strides and context sizes"
   ]
  },
  {
   "cell_type": "code",
   "execution_count": null,
   "id": "f77a0afd-b245-417a-9f73-e5d1baeff89f",
   "metadata": {},
   "outputs": [],
   "source": [
    "dataloader = create_dataloader_v1(\n",
    "    raw_text, batch_size=1, max_length=2, stride=2, shuffle=False)\n",
    "data_iter = iter(dataloader) # Converts the dataloader into a Python iterator to fetch the next entry via Python's built in next() function\n",
    "first_batch = next(data_iter)\n",
    "print(first_batch)\n",
    "second_batch = next(data_iter)\n",
    "print(second_batch)\n",
    "print('-'*20)\n",
    "\n",
    "dataloader = create_dataloader_v1(\n",
    "    raw_text, batch_size=1, max_length=8, stride=2, shuffle=False)\n",
    "data_iter = iter(dataloader) # Converts the dataloader into a Python iterator to fetch the next entry via Python's built in next() function\n",
    "first_batch = next(data_iter)\n",
    "print(first_batch)\n",
    "second_batch = next(data_iter)\n",
    "print(second_batch)\n",
    "print('-'*20)\n",
    "\n",
    "dataloader = create_dataloader_v1(\n",
    "    raw_text, batch_size=1, max_length=8, stride=1, shuffle=False)\n",
    "data_iter = iter(dataloader) # Converts the dataloader into a Python iterator to fetch the next entry via Python's built in next() function\n",
    "first_batch = next(data_iter)\n",
    "print(first_batch)\n",
    "second_batch = next(data_iter)\n",
    "print(second_batch)"
   ]
  },
  {
   "cell_type": "code",
   "execution_count": null,
   "id": "f5ed2cbf-0335-4f9a-8231-887b2dc7c681",
   "metadata": {},
   "outputs": [],
   "source": [
    "dataloader = create_dataloader_v1(raw_text, batch_size=8, max_length=4, stride=4, shuffle=False)\n",
    "data_iter = iter(dataloader)\n",
    "inputs, targets = next(data_iter)\n",
    "print(\"Inputs:\\n\", inputs)\n",
    "print(\"\\nTargets:\\n\", targets)"
   ]
  }
 ],
 "metadata": {
  "kernelspec": {
   "display_name": "Python 3 (ipykernel)",
   "language": "python",
   "name": "python3"
  },
  "language_info": {
   "codemirror_mode": {
    "name": "ipython",
    "version": 3
   },
   "file_extension": ".py",
   "mimetype": "text/x-python",
   "name": "python",
   "nbconvert_exporter": "python",
   "pygments_lexer": "ipython3"
  }
 },
 "nbformat": 4,
 "nbformat_minor": 5
}
