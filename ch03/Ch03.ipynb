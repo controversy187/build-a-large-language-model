{
 "cells": [
  {
   "cell_type": "markdown",
   "id": "7ac9f182-48c8-4cab-9850-1a7401865954",
   "metadata": {},
   "source": [
    "# Chapter 3: Coding Attention Mechanisms"
   ]
  },
  {
   "cell_type": "markdown",
   "id": "6cb28901-64ac-42f3-8f32-dc3b9a45f9a4",
   "metadata": {},
   "source": [
    "## 3.3.1: A simple self-attention mechanism without weights"
   ]
  },
  {
   "cell_type": "code",
   "execution_count": null,
   "id": "95dcf0ba-dba6-4f90-b408-f991df6f02db",
   "metadata": {},
   "outputs": [],
   "source": [
    "import torch\n",
    "# Start with tokenized text\n",
    "inputs = torch.tensor(\n",
    "   [[0.43, 0.15, 0.89], # Your (x^1)\n",
    "    [0.55, 0.87, 0.66], # journey (x^2)\n",
    "    [0.57, 0.85, 0.64], # starts (x^3)\n",
    "    [0.22, 0.58, 0.33], # with (x^4)\n",
    "    [0.77, 0.25, 0.10], # one (x^5)\n",
    "    [0.05, 0.80, 0.55]] # step (x^6)\n",
    ")"
   ]
  },
  {
   "cell_type": "code",
   "execution_count": null,
   "id": "4b07b836-04eb-4ed8-a4a4-b6dd7d9114d9",
   "metadata": {},
   "outputs": [],
   "source": [
    "# Compute attention scores\n",
    "query = inputs[1] # The second input token serves as the query\n",
    "attn_scores_2 = torch.empty(inputs.shape[0])\n",
    "for i, x_i in enumerate(inputs):\n",
    "    attn_scores_2[i] = torch.dot(x_i, query)\n",
    "print(attn_scores_2)"
   ]
  },
  {
   "cell_type": "code",
   "execution_count": null,
   "id": "f11ffe38-63ad-47af-ba9d-b36c50e7cd35",
   "metadata": {},
   "outputs": [],
   "source": [
    "# Normalize attention scores\n",
    "attn_weights_2_tmp = attn_scores_2 / attn_scores_2.sum()\n",
    "print(\"Attention weights:\", attn_weights_2_tmp)\n",
    "print(\"Sum:\", attn_weights_2_tmp.sum())"
   ]
  },
  {
   "cell_type": "code",
   "execution_count": null,
   "id": "7210618f-7cdc-43e1-a582-b6dd059c0a8e",
   "metadata": {},
   "outputs": [],
   "source": [
    "# Same as above, but using softmax\n",
    "def softmax_naive(x):\n",
    "    return torch.exp(x) / torch.exp(x).sum(dim=0)\n",
    "\n",
    "attn_weights_2_naive = softmax_naive(attn_scores_2)\n",
    "print(\"Attention weights:\", attn_weights_2_naive)\n",
    "print(\"Sum:\", attn_weights_2_naive.sum())"
   ]
  },
  {
   "cell_type": "code",
   "execution_count": null,
   "id": "317d22d2-dc1c-4735-ae96-7ca0905efe4d",
   "metadata": {},
   "outputs": [],
   "source": [
    "# Same as above, but using PyTorch softmax\n",
    "attn_weights_2 = torch.softmax(attn_scores_2, dim=0)\n",
    "print(\"Attention weights:\", attn_weights_2)\n",
    "print(\"Sum:\", attn_weights_2.sum())"
   ]
  },
  {
   "cell_type": "code",
   "execution_count": null,
   "id": "83a81b49-8484-4a67-bf26-c2a653b89049",
   "metadata": {},
   "outputs": [],
   "source": [
    "# Calculate the second context vector\n",
    "query = inputs[1]\n",
    "context_vec_2 = torch.zeros(query.shape)\n",
    "for i,x_i in enumerate(inputs):\n",
    "    context_vec_2 += attn_weights_2[i]*x_i\n",
    "print(context_vec_2)"
   ]
  }
 ],
 "metadata": {
  "kernelspec": {
   "display_name": "Python 3 (ipykernel)",
   "language": "python",
   "name": "python3"
  },
  "language_info": {
   "codemirror_mode": {
    "name": "ipython",
    "version": 3
   },
   "file_extension": ".py",
   "mimetype": "text/x-python",
   "name": "python",
   "nbconvert_exporter": "python",
   "pygments_lexer": "ipython3"
  }
 },
 "nbformat": 4,
 "nbformat_minor": 5
}
