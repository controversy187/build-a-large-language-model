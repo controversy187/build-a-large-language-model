{
 "cells": [
  {
   "cell_type": "markdown",
   "id": "7ac9f182-48c8-4cab-9850-1a7401865954",
   "metadata": {},
   "source": [
    "# Chapter 3: Coding Attention Mechanisms"
   ]
  },
  {
   "cell_type": "markdown",
   "id": "6cb28901-64ac-42f3-8f32-dc3b9a45f9a4",
   "metadata": {},
   "source": [
    "## 3.3.1: A simple self-attention mechanism without weights"
   ]
  },
  {
   "cell_type": "code",
   "execution_count": null,
   "id": "95dcf0ba-dba6-4f90-b408-f991df6f02db",
   "metadata": {},
   "outputs": [],
   "source": [
    "import torch\n",
    "# Start with tokenized text\n",
    "inputs = torch.tensor(\n",
    "   [[0.43, 0.15, 0.89], # Your (x^1)\n",
    "    [0.55, 0.87, 0.66], # journey (x^2)\n",
    "    [0.57, 0.85, 0.64], # starts (x^3)\n",
    "    [0.22, 0.58, 0.33], # with (x^4)\n",
    "    [0.77, 0.25, 0.10], # one (x^5)\n",
    "    [0.05, 0.80, 0.55]] # step (x^6)\n",
    ")"
   ]
  },
  {
   "cell_type": "code",
   "execution_count": null,
   "id": "4b07b836-04eb-4ed8-a4a4-b6dd7d9114d9",
   "metadata": {},
   "outputs": [],
   "source": [
    "# Compute attention scores\n",
    "query = inputs[1] # The second input token serves as the query\n",
    "attn_scores_2 = torch.empty(inputs.shape[0])\n",
    "for i, x_i in enumerate(inputs):\n",
    "    attn_scores_2[i] = torch.dot(x_i, query)\n",
    "print(attn_scores_2)"
   ]
  },
  {
   "cell_type": "code",
   "execution_count": null,
   "id": "f11ffe38-63ad-47af-ba9d-b36c50e7cd35",
   "metadata": {},
   "outputs": [],
   "source": [
    "# Normalize attention scores\n",
    "attn_weights_2_tmp = attn_scores_2 / attn_scores_2.sum()\n",
    "print(\"Attention weights:\", attn_weights_2_tmp)\n",
    "print(\"Sum:\", attn_weights_2_tmp.sum())"
   ]
  },
  {
   "cell_type": "code",
   "execution_count": null,
   "id": "7210618f-7cdc-43e1-a582-b6dd059c0a8e",
   "metadata": {},
   "outputs": [],
   "source": [
    "# Same as above, but using softmax\n",
    "def softmax_naive(x):\n",
    "    return torch.exp(x) / torch.exp(x).sum(dim=0)\n",
    "\n",
    "attn_weights_2_naive = softmax_naive(attn_scores_2)\n",
    "print(\"Attention weights:\", attn_weights_2_naive)\n",
    "print(\"Sum:\", attn_weights_2_naive.sum())"
   ]
  },
  {
   "cell_type": "code",
   "execution_count": null,
   "id": "317d22d2-dc1c-4735-ae96-7ca0905efe4d",
   "metadata": {},
   "outputs": [],
   "source": [
    "# Same as above, but using PyTorch softmax\n",
    "attn_weights_2 = torch.softmax(attn_scores_2, dim=0)\n",
    "print(\"Attention weights:\", attn_weights_2)\n",
    "print(\"Sum:\", attn_weights_2.sum())"
   ]
  },
  {
   "cell_type": "code",
   "execution_count": null,
   "id": "83a81b49-8484-4a67-bf26-c2a653b89049",
   "metadata": {},
   "outputs": [],
   "source": [
    "# Calculate the second context vector\n",
    "query = inputs[1]\n",
    "context_vec_2 = torch.zeros(query.shape)\n",
    "for i,x_i in enumerate(inputs):\n",
    "    context_vec_2 += attn_weights_2[i]*x_i\n",
    "print(context_vec_2)"
   ]
  },
  {
   "cell_type": "markdown",
   "id": "861c8a09-5771-43f1-8683-32435166bff7",
   "metadata": {},
   "source": [
    "## 3.3.2: Computing attention weights for all input tokens"
   ]
  },
  {
   "cell_type": "code",
   "execution_count": null,
   "id": "99cead80-d898-428b-ac20-a0c65ed18f2d",
   "metadata": {},
   "outputs": [],
   "source": [
    "attn_scores = torch.empty(6,6)\n",
    "for i, x_i in enumerate(inputs):\n",
    "    for j, x_j in enumerate(inputs):\n",
    "        attn_scores[i, j] = torch.dot(x_i, x_j)\n",
    "print(attn_scores)"
   ]
  },
  {
   "cell_type": "code",
   "execution_count": null,
   "id": "9d05ce79-7402-4062-b69f-fe019565bec7",
   "metadata": {},
   "outputs": [],
   "source": [
    "# Instead of using loops, we'll use matrix multiplication\n",
    "attn_scores = inputs @ inputs.T\n",
    "print(attn_scores)"
   ]
  },
  {
   "cell_type": "code",
   "execution_count": null,
   "id": "a20e4754-7df2-48de-8487-f8e44b4be560",
   "metadata": {},
   "outputs": [],
   "source": [
    "# Normalize each row\n",
    "attn_weights = torch.softmax(attn_scores, dim=-1)\n",
    "print(attn_weights)"
   ]
  },
  {
   "cell_type": "code",
   "execution_count": null,
   "id": "c9fdb4c2-3edf-4db4-989e-29ecd25782ac",
   "metadata": {},
   "outputs": [],
   "source": [
    "# Verify our normalization sums to 1\n",
    "row_2_sum = sum([0.1385, 0.2379, 0.2333, 0.1240, 0.1082, 0.1581])\n",
    "print(\"Row 2 sum:\", row_2_sum)\n",
    "print(\"All row sums:\", attn_weights.sum(dim=-1))"
   ]
  },
  {
   "cell_type": "code",
   "execution_count": null,
   "id": "9964ff69-2f4c-44c8-bfb5-04626cec15fe",
   "metadata": {},
   "outputs": [],
   "source": [
    "# Compute all context vectors\n",
    "all_context_vecs = attn_weights @ inputs\n",
    "print(all_context_vecs)"
   ]
  },
  {
   "cell_type": "code",
   "execution_count": null,
   "id": "c942fb3b-e978-49f9-acbc-2af9bfaded74",
   "metadata": {},
   "outputs": [],
   "source": [
    "# Let's verify this is correct\n",
    "print(\"Previous 2nd context vector:\", context_vec_2)\n",
    "print(\"Current 2nd context vector:\", all_context_vecs[1])"
   ]
  },
  {
   "cell_type": "markdown",
   "id": "7fda474e-f0dc-453d-ab1f-ddc7a805c0bd",
   "metadata": {},
   "source": [
    "## 3.4.1: Computing the attention weights step by step"
   ]
  },
  {
   "cell_type": "code",
   "execution_count": null,
   "id": "5e0195c8-770e-48a7-a8b2-d255cb44c803",
   "metadata": {},
   "outputs": [],
   "source": [
    "x_2 = inputs[1] # the second input element\n",
    "d_in = inputs.shape[1] # Input embedding size, d=3\n",
    "d_out = 2 # output embedding size, d_out = 2\n",
    "\n",
    "torch.manual_seed(123)\n",
    "W_query = torch.nn.Parameter(torch.rand(d_in, d_out), requires_grad=False)\n",
    "W_key   = torch.nn.Parameter(torch.rand(d_in, d_out), requires_grad=False)\n",
    "W_value = torch.nn.Parameter(torch.rand(d_in, d_out), requires_grad=False)\n",
    "# Would need to set requires_grad=True if we were to do actual training.\n",
    "\n",
    "query_2 = x_2 @ W_query\n",
    "key_2   = x_2 @ W_key\n",
    "value_2 = x_2 @ W_value\n",
    "print(query_2)"
   ]
  },
  {
   "cell_type": "code",
   "execution_count": null,
   "id": "dbb10895-7898-4b91-99dc-4e4c852ef3cf",
   "metadata": {},
   "outputs": [],
   "source": [
    "# We still need all the key and value vectors to compute the single query\n",
    "keys   = inputs @ W_key\n",
    "values = inputs @ W_value\n",
    "\n",
    "print(\"keys.shape:\", keys.shape)\n",
    "print(\"values.shape:\", values.shape)"
   ]
  },
  {
   "cell_type": "code",
   "execution_count": null,
   "id": "76e20b3b-aa50-431f-8c87-b5b483a46feb",
   "metadata": {},
   "outputs": [],
   "source": [
    "# Compute the attention scores\n",
    "# Start with just a single one, for demonstration purposes\n",
    "keys_2 = keys[1] # Python starts index at 0\n",
    "attn_score_22 = query_2.dot(keys_2)\n",
    "print(attn_score_22)"
   ]
  },
  {
   "cell_type": "code",
   "execution_count": null,
   "id": "2e199440-acd7-4fb3-ba04-c42a7d21f48c",
   "metadata": {},
   "outputs": [],
   "source": [
    "# generalize for all attention scores\n",
    "attn_scores_2 = query_2 @ keys.T\n",
    "print(attn_scores_2)"
   ]
  },
  {
   "cell_type": "code",
   "execution_count": null,
   "id": "269de597-2e3f-4333-9cf5-47e8273610d4",
   "metadata": {},
   "outputs": [],
   "source": [
    "d_k = keys.shape[-1]\n",
    "attn_weights_2 = torch.softmax(attn_scores_2 / d_k**0.5, dim=-1)\n",
    "print(attn_weights_2)"
   ]
  },
  {
   "cell_type": "code",
   "execution_count": null,
   "id": "38f3f877-7d3c-4474-a862-6f0ab96e17c8",
   "metadata": {},
   "outputs": [],
   "source": [
    "context_vec_2 = attn_weights_2 @ values\n",
    "print(context_vec_2)"
   ]
  },
  {
   "cell_type": "markdown",
   "id": "9b67849b-63a2-4477-b426-ea219830c017",
   "metadata": {},
   "source": [
    "## 3.4.2: Implementing a compact self-attention Python class"
   ]
  },
  {
   "cell_type": "code",
   "execution_count": null,
   "id": "6eb157de-f75e-4903-a95c-8bde3e4962a3",
   "metadata": {},
   "outputs": [],
   "source": [
    "import torch.nn as nn\n",
    "\n",
    "class SelfAttention_v1(nn.Module):\n",
    "    def __init__(self, d_in, d_out):\n",
    "        super().__init__()\n",
    "        self.W_query = nn.Parameter(torch.rand(d_in, d_out))\n",
    "        self.W_key = nn.Parameter(torch.rand(d_in, d_out))\n",
    "        self.W_value = nn.Parameter(torch.rand(d_in, d_out))\n",
    "\n",
    "    def forward(self, x):\n",
    "        keys = x @ self.W_key\n",
    "        queries = x @ self.W_query\n",
    "        values = x @ self.W_value\n",
    "        attn_scores = queries @ keys.T # omega\n",
    "        attn_weights = torch.softmax(\n",
    "        attn_scores / keys.shape[-1]**0.5, dim=-1\n",
    "        )\n",
    "        context_vec = attn_weights @ values\n",
    "        return context_vec"
   ]
  },
  {
   "cell_type": "code",
   "execution_count": null,
   "id": "edec49c4-0687-43cc-8be1-8c04f1bd9282",
   "metadata": {},
   "outputs": [],
   "source": [
    "torch.manual_seed(123)\n",
    "sa_v1 = SelfAttention_v1(d_in, d_out)\n",
    "print(sa_v1(inputs))"
   ]
  },
  {
   "cell_type": "code",
   "execution_count": null,
   "id": "5c1950be-f304-4282-bb25-720253fb2f10",
   "metadata": {},
   "outputs": [],
   "source": [
    "class SelfAttention_v2(nn.Module):\n",
    "    def __init__(self, d_in, d_out, qkv_bias=False):\n",
    "        super().__init__()\n",
    "        self.W_query = nn.Linear(d_in, d_out, bias=qkv_bias)\n",
    "        self.W_key = nn.Linear(d_in, d_out, bias=qkv_bias)\n",
    "        self.W_value = nn.Linear(d_in, d_out, bias=qkv_bias)\n",
    "        \n",
    "    def forward(self, x):\n",
    "        keys = self.W_key(x)\n",
    "        queries = self.W_query(x)\n",
    "        values = self.W_value(x)\n",
    "        attn_scores = queries @ keys.T\n",
    "        attn_weights = torch.softmax(\n",
    "            attn_scores / keys.shape[-1]**0.5, dim=-1\n",
    "        )\n",
    "        context_vec = attn_weights @ values\n",
    "        return context_vec"
   ]
  },
  {
   "cell_type": "code",
   "execution_count": null,
   "id": "41bac478-77e8-45c6-80d9-0593dbf14d71",
   "metadata": {},
   "outputs": [],
   "source": [
    "torch.manual_seed(789)\n",
    "sa_v2 = SelfAttention_v2(d_in, d_out)\n",
    "print(sa_v2(inputs))"
   ]
  },
  {
   "cell_type": "markdown",
   "id": "2553acb6-2290-4913-beb1-1df85663382e",
   "metadata": {},
   "source": [
    "## 3.5.1: Applying a causal attention mask"
   ]
  },
  {
   "cell_type": "code",
   "execution_count": null,
   "id": "d61290af-2412-43fa-88fe-0e00f71dfbac",
   "metadata": {},
   "outputs": [],
   "source": [
    "# Start by computing the attention weights\n",
    "queries      = sa_v2.W_query(inputs)\n",
    "keys         = sa_v2.W_key(inputs)\n",
    "attn_scores  = queries @ keys.T\n",
    "attn_weights = torch.softmax(attn_scores / keys.shape[-1]**0.5, dim=-1)\n",
    "print(attn_weights)"
   ]
  },
  {
   "cell_type": "code",
   "execution_count": null,
   "id": "957fb491-090e-4e22-bf40-59fe7282d552",
   "metadata": {},
   "outputs": [],
   "source": [
    "# Create a mask that zeroes out weights for tokens not yet encountered (the diagonal)\n",
    "context_length = attn_scores.shape[0]\n",
    "mask_simple = torch.tril(torch.ones(context_length, context_length))\n",
    "print(mask_simple)"
   ]
  },
  {
   "cell_type": "code",
   "execution_count": null,
   "id": "82536dbd-b922-429b-98a8-ac0161ca9d6a",
   "metadata": {},
   "outputs": [],
   "source": [
    "masked_simple = attn_weights * mask_simple\n",
    "print(masked_simple)"
   ]
  },
  {
   "cell_type": "code",
   "execution_count": null,
   "id": "55f238d4-7591-4aa2-8dce-853b6006a71b",
   "metadata": {},
   "outputs": [],
   "source": [
    "# Renormalize the weights\n",
    "row_sums = masked_simple.sum(dim=-1, keepdim=True)\n",
    "masked_simple_norm = masked_simple / row_sums\n",
    "print(masked_simple_norm)"
   ]
  },
  {
   "cell_type": "code",
   "execution_count": null,
   "id": "e4762542-9f51-469c-94d5-ec1fbefa209a",
   "metadata": {},
   "outputs": [],
   "source": [
    "# A more efficient mask\n",
    "mask = torch.triu(torch.ones(context_length, context_length), diagonal=1)\n",
    "masked = attn_scores.masked_fill(mask.bool(), -torch.inf)\n",
    "print(masked)"
   ]
  },
  {
   "cell_type": "code",
   "execution_count": null,
   "id": "7b06f4ce-ef77-4027-8225-f2c58b54f9d0",
   "metadata": {},
   "outputs": [],
   "source": [
    "# and normalize this\n",
    "attn_weights = torch.softmax(masked / keys.shape[-1]**.5, dim=1)\n",
    "print(attn_weights)"
   ]
  },
  {
   "cell_type": "markdown",
   "id": "e51b527c-fc67-4eb3-9493-de8c1c25ccbc",
   "metadata": {},
   "source": [
    "## 3.5.2: Masking additional attention weights with dropout"
   ]
  },
  {
   "cell_type": "code",
   "execution_count": null,
   "id": "ddc58856-e2a7-4433-b34c-bb5e11f5122e",
   "metadata": {},
   "outputs": [],
   "source": [
    "torch.manual_seed(123)\n",
    "dropout = torch.nn.Dropout(0.5) # 50% dropout rate\n",
    "example = torch.ones(6,6)\n",
    "print(example)\n",
    "print(dropout(example))"
   ]
  },
  {
   "cell_type": "code",
   "execution_count": null,
   "id": "800c4cc8-6d58-4c68-b7fc-140671fe513a",
   "metadata": {},
   "outputs": [],
   "source": [
    "torch.manual_seed(123)\n",
    "print(dropout(attn_weights))"
   ]
  },
  {
   "cell_type": "markdown",
   "id": "fad9de53-d94b-4c10-bb9c-adbe3a7cc814",
   "metadata": {},
   "source": [
    "## 3.5.3: Implementing a compact causal attention class"
   ]
  },
  {
   "cell_type": "code",
   "execution_count": null,
   "id": "06268d69-b5f0-4b4a-9ff0-249cf42712cd",
   "metadata": {},
   "outputs": [],
   "source": [
    "# Duplicate our input so we have a \"batch\"\n",
    "batch = torch.stack((inputs, inputs), dim=0)\n",
    "print(batch.shape)"
   ]
  },
  {
   "cell_type": "code",
   "execution_count": null,
   "id": "ad8a0c8a-f6a4-40c3-8a04-057897d98afe",
   "metadata": {},
   "outputs": [],
   "source": [
    "class CausalAttention(nn.Module):\n",
    "    def __init__(self, d_in, d_out, context_length, dropout, qkv_bias=False):\n",
    "        super().__init__()\n",
    "        self.d_out   = d_out\n",
    "        self.W_query = nn.Linear(d_in, d_out, bias=qkv_bias)\n",
    "        self.W_key   = nn.Linear(d_in, d_out, bias=qkv_bias)\n",
    "        self.W_value = nn.Linear(d_in, d_out, bias=qkv_bias)\n",
    "        self.dropout = nn.Dropout(dropout)\n",
    "        self.register_buffer(\n",
    "            'mask',\n",
    "            torch.triu(torch.ones(context_length, context_length),diagonal=1)\n",
    "        )\n",
    "\n",
    "    def forward(self, x):\n",
    "        b, num_tokens, d_in = x.shape\n",
    "        keys    = self.W_key(x)\n",
    "        queries = self.W_query(x)\n",
    "        values  = self.W_value(x)\n",
    "\n",
    "        attn_scores = queries @ keys.transpose(1, 2)\n",
    "        attn_scores.masked_fill_(self.mask.bool()[:num_tokens, :num_tokens], -torch.inf)\n",
    "        attn_weights = torch.softmax(attn_scores / keys.shape[-1] ** 0.5, dim=-1)\n",
    "        attn_weights = self.dropout(attn_weights)\n",
    "\n",
    "        context_vec = attn_weights @ values\n",
    "        return context_vec"
   ]
  },
  {
   "cell_type": "code",
   "execution_count": null,
   "id": "7efe5461-3619-4370-a860-60ca48dddc4a",
   "metadata": {},
   "outputs": [],
   "source": [
    "torch.manual_seed(123)\n",
    "context_length = batch.shape[1]\n",
    "ca = CausalAttention(d_in, d_out, context_length, 0.0)\n",
    "context_vecs = ca(batch)\n",
    "print(\"context_vecs shape:\", context_vecs.shape)"
   ]
  },
  {
   "cell_type": "markdown",
   "id": "a7da3e78-c287-456e-ac41-d24f5b370960",
   "metadata": {},
   "source": [
    "## 3.6.1: Stacking mutiple single-head attention layers"
   ]
  },
  {
   "cell_type": "code",
   "execution_count": null,
   "id": "657815ce-c098-4237-b487-67949a0b336d",
   "metadata": {},
   "outputs": [],
   "source": [
    "class MultiHeadAttentionWrapper(nn.Module):\n",
    "    def __init__(self, d_in, d_out, context_length, dropout, num_heads, qkv_bias=False):\n",
    "        super().__init__()\n",
    "        self.heads = nn.ModuleList(\n",
    "            [CausalAttention(\n",
    "                d_in, d_out, context_length, dropout, qkv_bias\n",
    "            )\n",
    "            for _ in range(num_heads)]\n",
    "        )\n",
    "\n",
    "    def forward(self, x):\n",
    "        return torch.cat([head(x) for head in self.heads], dim=-1)"
   ]
  },
  {
   "cell_type": "code",
   "execution_count": null,
   "id": "1892e3da-f31f-4d38-aca9-6a45dccd4e23",
   "metadata": {},
   "outputs": [],
   "source": [
    "torch.manual_seed(123)\n",
    "context_length = batch.shape[1] # this is the number of tokens\n",
    "d_in, d_out = 3, 2\n",
    "mha = MultiHeadAttentionWrapper(d_in, d_out, context_length, 0.0, num_heads = 2)\n",
    "context_vecs = mha(batch)\n",
    "print(context_vecs)\n",
    "print(\"context_vecs.shape:\", context_vecs.shape)\n"
   ]
  },
  {
   "cell_type": "markdown",
   "id": "79c633c0-786e-40b7-80f2-80912726e367",
   "metadata": {},
   "source": [
    "## 3.6.2: Implementing multi-head attention with weight splits"
   ]
  },
  {
   "cell_type": "code",
   "execution_count": null,
   "id": "d64c98d1-7985-4c8e-8f8b-eb75543aed18",
   "metadata": {},
   "outputs": [],
   "source": [
    "class MultiHeadAttention(nn.Module):\n",
    "    def __init__(self, d_in, d_out, context_length, dropout, num_heads, qkv_bias=False):\n",
    "        super().__init__()\n",
    "        assert (d_out % num_heads == 0), \"d_out must be divisible by num_heads\"\n",
    "\n",
    "        self.d_out     = d_out\n",
    "        self.num_heads = num_heads\n",
    "        self.head_dim  = d_out // num_heads# num_heads\n",
    "        self.W_query   = nn.Linear(d_in, d_out, bias=qkv_bias)\n",
    "        self.W_key     = nn.Linear(d_in, d_out, bias=qkv_bias)\n",
    "        self.W_value   = nn.Linear(d_in, d_out, bias=qkv_bias)\n",
    "        self.out_proj  = nn.Linear(d_out, d_out)\n",
    "        self.dropout   = nn.Dropout(dropout)\n",
    "        self.register_buffer(\n",
    "            \"mask\",\n",
    "            torch.triu(torch.ones(context_length, context_length), diagonal=1)\n",
    "        )\n",
    "\n",
    "    def forward(self, x):\n",
    "        b, num_tokens, d_in = x.shape\n",
    "        keys    = self.W_key(x)\n",
    "        queries = self.W_query(x)\n",
    "        values  = self.W_value(x)\n",
    "\n",
    "        keys    = keys.view(b, num_tokens, self.num_heads, self.head_dim)\n",
    "        values  = values.view(b, num_tokens, self.num_heads, self.head_dim)\n",
    "        queries = queries.view(b, num_tokens, self.num_heads, self.head_dim)\n",
    "    \n",
    "        keys    = keys.transpose(1, 2)\n",
    "        queries = queries.transpose(1, 2)\n",
    "        values  = values.transpose(1, 2)\n",
    "\n",
    "        attn_scores = queries @ keys.transpose(2, 3)\n",
    "        mask_bool   = self.mask.bool()[:num_tokens, :num_tokens]\n",
    "\n",
    "        attn_scores.masked_fill_(mask_bool, -torch.inf)\n",
    "\n",
    "        attn_weights = torch.softmax(attn_scores / keys.shape[-1]**0.5, dim=-1)\n",
    "        attn_weights = self.dropout(attn_weights)\n",
    "\n",
    "        context_vec = (attn_weights @ values).transpose(1, 2)\n",
    "\n",
    "        context_vec = context_vec.contiguous().view(b, num_tokens, self.d_out)\n",
    "        context_vec = self.out_proj(context_vec)\n",
    "\n",
    "        return context_vec\n",
    "    \n",
    "    "
   ]
  },
  {
   "cell_type": "code",
   "execution_count": null,
   "id": "eeaecc39-d3f2-401c-8073-1131a9286de8",
   "metadata": {},
   "outputs": [],
   "source": [
    "torch.manual_seed(123)\n",
    "batch_size, context_length, d_in = batch.shape\n",
    "d_out = 2\n",
    "mha = MultiHeadAttention(d_in, d_out, context_length, 0.0, num_heads=2)\n",
    "context_vecs = mha(batch)\n",
    "print(context_vecs)\n",
    "print(\"context_vecs.shape:\", context_vecs.shape)"
   ]
  }
 ],
 "metadata": {
  "kernelspec": {
   "display_name": "Python 3 (ipykernel)",
   "language": "python",
   "name": "python3"
  },
  "language_info": {
   "codemirror_mode": {
    "name": "ipython",
    "version": 3
   },
   "file_extension": ".py",
   "mimetype": "text/x-python",
   "name": "python",
   "nbconvert_exporter": "python",
   "pygments_lexer": "ipython3"
  }
 },
 "nbformat": 4,
 "nbformat_minor": 5
}
